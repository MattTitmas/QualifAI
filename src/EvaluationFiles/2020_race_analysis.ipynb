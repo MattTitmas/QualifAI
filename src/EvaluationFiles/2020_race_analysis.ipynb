{
 "cells": [
  {
   "cell_type": "code",
   "execution_count": 1,
   "metadata": {
    "collapsed": true
   },
   "outputs": [],
   "source": [
    "import os\n",
    "\n",
    "if not os.getcwd().endswith('Dissertation'):\n",
    "    os.chdir('..')"
   ]
  },
  {
   "cell_type": "code",
   "execution_count": 2,
   "outputs": [
    {
     "data": {
      "text/plain": "{'03_17': {'Q1': 26, 'Q2': 54, 'Tyres': 'Soft'},\n '03_31': {'Q1': 106, 'Q2': 133, 'Tyres': 'Soft'},\n '04_14': {'Q1': 180, 'Q2': 207, 'Tyres': 'Soft'},\n '04_28': {'Q1': 277, 'Q2': 295, 'Tyres': 'Soft'},\n '05_26': {'Q1': 373, 'Q2': 423, 'Tyres': 'Soft'},\n '06_09': {'Q1': 428, 'Q2': 457, 'Tyres': 'Soft'},\n '06_30': {'Q1': 449, 'Q2': 479, 'Tyres': 'Soft'},\n '07_28': {'Q1': 466, 'Q2': 495, 'Tyres': 'Soft'},\n '09_22': {'Q1': 455, 'Q2': 481, 'Tyres': 'Soft'},\n '09_29': {'Q1': 399, 'Q2': 427, 'Tyres': 'Soft'},\n '10_13': {'Q1': 377, 'Q2': 406, 'Tyres': 'Soft'},\n '11_03': {'Q1': 358, 'Q2': 385, 'Tyres': 'Soft'},\n '12_01': {'Q1': 356, 'Q2': 384, 'Tyres': 'Soft'}}"
     },
     "execution_count": 2,
     "metadata": {},
     "output_type": "execute_result"
    }
   ],
   "source": [
    "import pandas as pd\n",
    "import numpy as np\n",
    "from tqdm.auto import tqdm\n",
    "\n",
    "from src.ModelUsage import call_model\n",
    "\n",
    "year = 2019\n",
    "\n",
    "with open(f'Data\\\\test_csv\\\\{year}\\\\train_to.txt', 'r') as f:\n",
    "    train_to = {i.rstrip().split(' - ')[0]:\n",
    "                      {\n",
    "                          'Q1': int(i.rstrip().split(' - ')[1]),\n",
    "                          'Q2': int(i.rstrip().split(' - ')[2]),\n",
    "                          'Tyres': i.rstrip().split(' - ')[3]\n",
    "                       }\n",
    "                   for i in f.readlines()}\n",
    "train_to"
   ],
   "metadata": {
    "collapsed": false
   }
  },
  {
   "cell_type": "code",
   "execution_count": 3,
   "outputs": [
    {
     "data": {
      "text/plain": "  0%|          | 0/13 [00:00<?, ?it/s]",
      "application/vnd.jupyter.widget-view+json": {
       "version_major": 2,
       "version_minor": 0,
       "model_id": "c22e5c6216c1473985257277fa4cab96"
      }
     },
     "metadata": {},
     "output_type": "display_data"
    }
   ],
   "source": [
    "def run_model(event_date, qual_session, loops: int=10):\n",
    "    csv_location = f'Data\\\\test_csv\\\\{year}\\\\{event_date}.csv'\n",
    "\n",
    "    cutoff = 16 if qual_session == 'Q1' else 11\n",
    "\n",
    "\n",
    "\n",
    "    data = pd.read_csv(csv_location).copy()\n",
    "\n",
    "    session_data = data[(data['Date'] == event_date) & (data['SessionName'] == qual_session)]\n",
    "\n",
    "    minimum_laps = session_data.groupby('DriverName')['LapTime'].min()\n",
    "    cutoff = (np.sort(minimum_laps.to_numpy())[cutoff - 1])\n",
    "\n",
    "    means = []\n",
    "    stds = []\n",
    "    confs = []\n",
    "    losses = []\n",
    "    for i in range(loops):\n",
    "        _, (mean, std, con), loss = call_model(csv_location, qual_session, event_date, train_to=train_to[event_date][qual_session], return_std=True, return_con=True, return_loss = True, pbar=False, tyres=train_to[event_date]['Tyres'])\n",
    "        means.append(mean)\n",
    "        stds.append(std)\n",
    "        confs.append(con)\n",
    "        losses.append(loss)\n",
    "    return means, stds, confs, cutoff, losses\n",
    "\n",
    "results = dict()\n",
    "\n",
    "for date in tqdm(list(train_to.keys())):\n",
    "    if os.path.exists(f'Data\\\\test_csv\\\\{year}_results\\\\{date}.csv'):\n",
    "        results[date] = pd.read_csv(f'Data\\\\test_csv\\\\{year}_results\\\\{date}.csv').to_dict()\n",
    "\n",
    "        for key, value in results[date].items():\n",
    "            results[date][key] = [i for i in value.values()]\n",
    "    else:\n",
    "        results[date] = dict()\n",
    "        for key in ['Q1_means', 'Q1_stds', 'Q1_confs', 'Q1_cutoff', 'Q2_means', 'Q2_stds', 'Q2_confs', 'Q2_cutoff']:\n",
    "            results[date][key] = []"
   ],
   "metadata": {
    "collapsed": false
   }
  },
  {
   "cell_type": "code",
   "execution_count": 4,
   "outputs": [
    {
     "data": {
      "text/plain": "  0%|          | 0/13 [00:00<?, ?it/s]",
      "application/vnd.jupyter.widget-view+json": {
       "version_major": 2,
       "version_minor": 0,
       "model_id": "e3384bd794c44ab6958b006fde14bb1b"
      }
     },
     "metadata": {},
     "output_type": "display_data"
    },
    {
     "name": "stdout",
     "output_type": "stream",
     "text": [
      "03_17 Q1\n",
      "03_17 Q2\n",
      "03_31 Q1\n",
      "03_31 Q2\n",
      "04_14 Q1\n",
      "04_14 Q2\n",
      "04_28 Q1\n",
      "04_28 Q2\n",
      "05_26 Q1\n",
      "05_26 Q2\n",
      "06_09 Q1\n",
      "06_09 Q2\n",
      "06_30 Q1\n",
      "06_30 Q2\n",
      "07_28 Q1\n",
      "07_28 Q2\n",
      "09_22 Q1\n",
      "09_22 Q2\n",
      "09_29 Q1\n",
      "09_29 Q2\n",
      "10_13 Q1\n",
      "10_13 Q2\n",
      "11_03 Q1\n",
      "11_03 Q2\n",
      "12_01 Q1\n",
      "12_01 Q2\n"
     ]
    }
   ],
   "source": [
    "losses = {\n",
    "    'Q1': [],\n",
    "    'Q2': []\n",
    "}\n",
    "\n",
    "for date in tqdm(list(train_to.keys())):\n",
    "    for session in ['Q1', 'Q2']:\n",
    "        print(date, session)\n",
    "        means, stds, confs, cutoff, loss = run_model(date, session, loops=39 )\n",
    "        results[date][f'{session}_means'] += means\n",
    "        results[date][f'{session}_stds'] += stds\n",
    "        results[date][f'{session}_confs'] += confs\n",
    "        results[date][f'{session}_cutoff'] = cutoff\n",
    "        losses[session] += loss"
   ],
   "metadata": {
    "collapsed": false
   }
  },
  {
   "cell_type": "code",
   "execution_count": 5,
   "outputs": [
    {
     "name": "stdout",
     "output_type": "stream",
     "text": [
      "0.4513057114099714\n",
      "0.6286413343575775\n",
      "0.19691973931789836\n",
      "0.2008442640933108\n"
     ]
    }
   ],
   "source": [
    "for qual in ['Q1', 'Q2']:\n",
    "    means = np.concatenate([results[date][f'{qual}_means'] - results[date][f'{qual}_cutoff'] for date in results])\n",
    "    print(np.mean(np.abs(means)))\n",
    "\n",
    "    stds = np.concatenate([results[date][f'{qual}_stds'] for date in results])\n",
    "    print(np.mean(np.abs(stds)))"
   ],
   "metadata": {
    "collapsed": false
   }
  },
  {
   "cell_type": "code",
   "execution_count": 6,
   "outputs": [],
   "source": [
    "for key, value in results.items():\n",
    "    dataframe = pd.DataFrame.from_dict(value)\n",
    "    dataframe.to_csv(f'Data\\\\test_csv\\\\{year}_results\\\\{key}.csv', index=False)"
   ],
   "metadata": {
    "collapsed": false
   }
  },
  {
   "cell_type": "code",
   "execution_count": 7,
   "outputs": [
    {
     "name": "stdout",
     "output_type": "stream",
     "text": [
      "0.7636472055499741\n",
      "0.4883881448382998\n"
     ]
    }
   ],
   "source": [
    "for key in losses:\n",
    "    print(np.mean(losses[key]))"
   ],
   "metadata": {
    "collapsed": false
   }
  },
  {
   "cell_type": "code",
   "execution_count": 8,
   "outputs": [
    {
     "name": "stdout",
     "output_type": "stream",
     "text": [
      "dict_keys(['03_17', '03_31', '04_14', '04_28', '05_26', '06_09', '06_30', '07_28', '09_22', '09_29', '10_13', '11_03', '12_01'])\n",
      "0.2008442640933108\n",
      "0.2043054620211786\n"
     ]
    }
   ],
   "source": [
    "stds = []\n",
    "print(results.keys())\n",
    "for key, value in results.items():\n",
    "    stds += (results[key]['Q2_stds'])\n",
    "print(np.mean(stds))\n",
    "print(1.96 * np.std(stds))"
   ],
   "metadata": {
    "collapsed": false
   }
  },
  {
   "cell_type": "code",
   "execution_count": 8,
   "outputs": [],
   "source": [],
   "metadata": {
    "collapsed": false
   }
  }
 ],
 "metadata": {
  "kernelspec": {
   "display_name": "Python 3",
   "language": "python",
   "name": "python3"
  },
  "language_info": {
   "codemirror_mode": {
    "name": "ipython",
    "version": 2
   },
   "file_extension": ".py",
   "mimetype": "text/x-python",
   "name": "python",
   "nbconvert_exporter": "python",
   "pygments_lexer": "ipython2",
   "version": "2.7.6"
  }
 },
 "nbformat": 4,
 "nbformat_minor": 0
}
